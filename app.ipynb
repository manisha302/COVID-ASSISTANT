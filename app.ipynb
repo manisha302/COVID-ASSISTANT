{
  "nbformat": 4,
  "nbformat_minor": 0,
  "metadata": {
    "colab": {
      "name": "app",
      "provenance": [],
      "collapsed_sections": []
    },
    "kernelspec": {
      "name": "python3",
      "display_name": "Python 3"
    }
  },
  "cells": [
    {
      "cell_type": "code",
      "metadata": {
        "id": "KU6pOjmkdDFc"
      },
      "source": [
        "import numpy as np\r\n",
        "from sklearn.preprocessing import MinMaxScaler\r\n",
        "from flask import Flask, request, jsonify, render_template\r\n",
        "import pickle\r\n",
        "\r\n",
        "app = Flask(__name__)\r\n",
        "model = pickle.load(open('model.pkl', 'rb'))\r\n",
        "\r\n",
        "@app.route('/')\r\n",
        "def home():\r\n",
        "    return render_template('index.html')\r\n",
        "\r\n",
        "@app.route('/predict',methods=['POST'])\r\n",
        "def predict():\r\n",
        "    '''\r\n",
        "    For rendering results on HTML GUI\r\n",
        "    '''\r\n",
        "    int_features = [float(x) for x in request.form.values()]\r\n",
        "    final_features = [np.array(int_features)]\r\n",
        "    scaler=MinMaxScaler()\r\n",
        "    x=scaler.fit_transform(x)\r\n",
        "    prediction = model.predict(final_features)\r\n",
        "\r\n",
        "    output = round(prediction[0], 2)\r\n",
        "\r\n",
        "    return render_template('index.html', predicting_life_expectancy='Employee Salary should be $ {}'.format(output))\r\n",
        "\r\n",
        "\r\n",
        "if __name__ == \"__main__\":\r\n",
        "    app.run(debug=True)"
      ],
      "execution_count": null,
      "outputs": []
    }
  ]
}